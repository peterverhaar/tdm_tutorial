{
 "cells": [
  {
   "cell_type": "markdown",
   "metadata": {},
   "source": [
    "# Topic modelling\n",
    "\n"
   ]
  },
  {
   "cell_type": "markdown",
   "metadata": {},
   "source": [
    "## Import the packages"
   ]
  },
  {
   "cell_type": "code",
   "execution_count": null,
   "metadata": {},
   "outputs": [],
   "source": [
    "#pip install -U scikit-learn "
   ]
  },
  {
   "cell_type": "code",
   "execution_count": 58,
   "metadata": {},
   "outputs": [],
   "source": [
    "import os\n",
    "import re\n",
    "import sklearn\n",
    "\n",
    "from sklearn.feature_extraction.text import TfidfVectorizer\n",
    "from sklearn.decomposition import NMF \n"
   ]
  },
  {
   "cell_type": "markdown",
   "metadata": {},
   "source": [
    "## Open all the files"
   ]
  },
  {
   "cell_type": "code",
   "execution_count": null,
   "metadata": {},
   "outputs": [],
   "source": [
    "dir = 'Corpus'\n",
    "file_names = []\n",
    "\n",
    "for item in os.listdir(dir):\n",
    "    if re.search( 'txt$' , item ):\n",
    "        file_names.append(os.path.join(dir,item))\n",
    "\n",
    "print(file_names)"
   ]
  },
  {
   "cell_type": "markdown",
   "metadata": {},
   "source": [
    "###  Non-negative Matrix Factorization\n"
   ]
  },
  {
   "cell_type": "code",
   "execution_count": null,
   "metadata": {},
   "outputs": [],
   "source": [
    "import sklearn\n",
    "\n",
    "nmf_vectorizer = TfidfVectorizer(input='filename', analyzer='word', min_df=1, strip_accents = None, stop_words='english', preprocessor=None, encoding = 'utf-8')\n",
    "\n",
    "features = nmf_vectorizer.fit_transform(file_names)\n",
    "feature_names = nmf_vectorizer.get_feature_names_out()\n",
    "\n"
   ]
  },
  {
   "cell_type": "markdown",
   "metadata": {},
   "source": [
    "## Topic model with 10 topics/components"
   ]
  },
  {
   "cell_type": "code",
   "execution_count": null,
   "metadata": {},
   "outputs": [],
   "source": [
    "\n",
    "topic_model = NMF(n_components=10, random_state=42, init='nndsvd', max_iter=2000) \n",
    "topic_model.fit(features)\n"
   ]
  },
  {
   "cell_type": "markdown",
   "metadata": {},
   "source": [
    "## Print the words in each topic"
   ]
  },
  {
   "cell_type": "code",
   "execution_count": null,
   "metadata": {},
   "outputs": [],
   "source": [
    "out = open('topics.txt' , 'w')\n",
    "\n",
    "nr_words = 20 \n",
    "\n",
    "words = nmf_vectorizer.get_feature_names_out()\n",
    "for topic_id, topic in enumerate(topic_model.components_):\n",
    "    out.write( f\"\\nTopic #{topic_id}:\\n\" )\n",
    "    for i in topic.argsort()[:-nr_words - 1:-1]:\n",
    "        out.write( words[i] + ' ')\n",
    "    out.write( '\\n')\n",
    "    \n",
    "\n",
    "out.close()"
   ]
  },
  {
   "cell_type": "code",
   "execution_count": null,
   "metadata": {},
   "outputs": [],
   "source": [
    "doc_topic = topic_model.transform(features)\n",
    "\n",
    "for n in range(doc_topic.shape[0]):\n",
    "    highest_score = doc_topic[n].argmax()\n",
    "    file = file_names[n]\n",
    "    with open(file) as fh:\n",
    "        print( fh.readlines()[0].strip() )\n",
    "    print( f\"[Topic #{highest_score}]\\n\")"
   ]
  },
  {
   "cell_type": "code",
   "execution_count": null,
   "metadata": {},
   "outputs": [],
   "source": [
    "doc_topic = topic_model.transform(features)\n",
    "\n",
    "for n in range(doc_topic.shape[0]):\n",
    "    topic_most_pr = doc_topic[n].argmax()\n",
    "    if topic_most_pr == 0:\n",
    "        with open(file_names[n]) as fh:\n",
    "            print( fh.readlines()[0] )\n"
   ]
  }
 ],
 "metadata": {
  "kernelspec": {
   "display_name": "Python 3 (ipykernel)",
   "language": "python",
   "name": "python3"
  },
  "language_info": {
   "codemirror_mode": {
    "name": "ipython",
    "version": 3
   },
   "file_extension": ".py",
   "mimetype": "text/x-python",
   "name": "python",
   "nbconvert_exporter": "python",
   "pygments_lexer": "ipython3",
   "version": "3.7.9"
  }
 },
 "nbformat": 4,
 "nbformat_minor": 4
}
